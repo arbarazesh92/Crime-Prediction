{
 "cells": [
  {
   "cell_type": "markdown",
   "source": [
    "Importing Libraries"
   ],
   "metadata": {
    "collapsed": false,
    "pycharm": {
     "name": "#%% md\n"
    }
   }
  },
  {
   "cell_type": "code",
   "execution_count": 1,
   "outputs": [],
   "source": [
    "import pandas as pd\n",
    "import numpy as np\n",
    "import matplotlib.pyplot as plt\n",
    "from sklearn.preprocessing import OneHotEncoder\n",
    "from sklearn.preprocessing import LabelEncoder\n",
    "import glob\n",
    "import time\n",
    "import re\n",
    "import math\n",
    "from sklearn.metrics import confusion_matrix\n",
    "import seaborn as sns\n",
    "from sklearn import preprocessing\n",
    "from sklearn.preprocessing import OneHotEncoder\n",
    "from sklearn.model_selection import train_test_split\n",
    "%matplotlib inline"
   ],
   "metadata": {
    "collapsed": false,
    "pycharm": {
     "name": "#%%\n"
    }
   }
  },
  {
   "cell_type": "markdown",
   "source": [
    "Importing Database"
   ],
   "metadata": {
    "collapsed": false,
    "pycharm": {
     "name": "#%% md\n"
    }
   }
  },
  {
   "cell_type": "code",
   "execution_count": 2,
   "outputs": [],
   "source": [
    "df = pd.read_csv('data.csv')\n",
    "df = df.rename(columns={\"Primary Type\":\"PrimaryType\"}) #change the column name to remove whitespace"
   ],
   "metadata": {
    "collapsed": false,
    "pycharm": {
     "name": "#%%\n"
    }
   }
  },
  {
   "cell_type": "code",
   "execution_count": 39,
   "metadata": {
    "pycharm": {
     "name": "#%%\n"
    }
   },
   "outputs": [
    {
     "data": {
      "text/plain": [
       "THEFT                                1512031\n",
       "BATTERY                              1311392\n",
       "CRIMINAL DAMAGE                       815476\n",
       "NARCOTICS                             731985\n",
       "ASSAULT                               451637\n",
       "OTHER OFFENSE                         444675\n",
       "BURGLARY                              404155\n",
       "MOTOR VEHICLE THEFT                   329396\n",
       "DECEPTIVE PRACTICE                    287771\n",
       "ROBBERY                               268863\n",
       "CRIMINAL TRESPASS                     203548\n",
       "WEAPONS VIOLATION                      81713\n",
       "PROSTITUTION                           69281\n",
       "PUBLIC PEACE VIOLATION                 50391\n",
       "OFFENSE INVOLVING CHILDREN             49468\n",
       "CRIM SEXUAL ASSAULT                    28398\n",
       "SEX OFFENSE                            27266\n",
       "INTERFERENCE WITH PUBLIC OFFICER       17272\n",
       "GAMBLING                               14584\n",
       "LIQUOR LAW VIOLATION                   14388\n",
       "ARSON                                  11885\n",
       "HOMICIDE                               10479\n",
       "KIDNAPPING                              6926\n",
       "INTIMIDATION                            4208\n",
       "STALKING                                3732\n",
       "CRIMINAL SEXUAL ASSAULT                 1515\n",
       "OBSCENITY                                679\n",
       "CONCEALED CARRY LICENSE VIOLATION        600\n",
       "PUBLIC INDECENCY                         179\n",
       "NON-CRIMINAL                             172\n",
       "OTHER NARCOTIC VIOLATION                 137\n",
       "HUMAN TRAFFICKING                         66\n",
       "NON - CRIMINAL                            38\n",
       "RITUALISM                                 23\n",
       "NON-CRIMINAL (SUBJECT SPECIFIED)           9\n",
       "Name: PrimaryType, dtype: int64"
      ]
     },
     "execution_count": 39,
     "metadata": {},
     "output_type": "execute_result"
    }
   ],
   "source": [
    "df['PrimaryType'].value_counts() #occurence of each crime type"
   ]
  },
  {
   "cell_type": "code",
   "execution_count": 4,
   "metadata": {
    "pycharm": {
     "name": "#%%\n"
    }
   },
   "outputs": [
    {
     "data": {
      "text/plain": [
       "(33,)"
      ]
     },
     "execution_count": 4,
     "metadata": {},
     "output_type": "execute_result"
    }
   ],
   "source": [
    "df = df.dropna() #remove rows including null values\n",
    "df = df.drop(df.index[(df.PrimaryType == 'DOMESTIC VIOLENCE') | (df.PrimaryType =='NON-CRIMINAL (SUBJECT SPECIFIED)') | (df.PrimaryType =='RITUALISM')]) #since we want to make several models with different size and using kfold, output classes with small number of occurence will raise error\n",
    "df = df.reset_index(drop = True)\n",
    "df['PrimaryType'].value_counts().shape #number of crime types"
   ]
  },
  {
   "cell_type": "code",
   "execution_count": 45,
   "metadata": {
    "pycharm": {
     "name": "#%%\n"
    }
   },
   "outputs": [
    {
     "name": "stdout",
     "output_type": "stream",
     "text": [
      "<class 'pandas.core.frame.DataFrame'>\n",
      "RangeIndex: 7154339 entries, 0 to 7154338\n",
      "Data columns (total 9 columns):\n",
      " #   Column                Dtype \n",
      "---  ------                ----- \n",
      " 0   index                 int64 \n",
      " 1   Primary Type          object\n",
      " 2   Location Description  object\n",
      " 3   Year                  int64 \n",
      " 4   Month                 int64 \n",
      " 5   day                   int64 \n",
      " 6   day_of_week           object\n",
      " 7   weekday               object\n",
      " 8   Day_Period            object\n",
      "dtypes: int64(4), object(5)\n",
      "memory usage: 491.2+ MB\n"
     ]
    }
   ],
   "source": [
    "df.info()"
   ]
  },
  {
   "cell_type": "code",
   "execution_count": 46,
   "metadata": {
    "pycharm": {
     "name": "#%%\n"
    }
   },
   "outputs": [
    {
     "name": "stdout",
     "output_type": "stream",
     "text": [
      "['6am - 2pm' '10pm - 6am' '2pm - 10pm']\n",
      "['Weekday' 'Weekend']\n",
      "['Monday' 'Sunday' 'Tuesday' 'Saturday' 'Thursday' 'Friday' 'Wednesday']\n"
     ]
    }
   ],
   "source": [
    "#different classes of columns with object data type\n",
    "print(df['Day_Period'].unique())\n",
    "print(df['weekday'].unique())\n",
    "print(df['day_of_week'].unique())\n",
    "print(df['Location Description'].unique())"
   ]
  },
  {
   "cell_type": "code",
   "execution_count": 5,
   "metadata": {
    "pycharm": {
     "name": "#%%\n"
    }
   },
   "outputs": [],
   "source": [
    "df_mod = df.copy()"
   ]
  },
  {
   "cell_type": "code",
   "execution_count": 6,
   "metadata": {
    "pycharm": {
     "name": "#%%\n"
    }
   },
   "outputs": [],
   "source": [
    "#mapping weekday to binary classes\n",
    "df_mod['weekday'] = df_mod['weekday'].map({'Weekday' : 0, 'Weekend':1})\n",
    "df_mod = df_mod.rename(columns={\"weekday\":\"weekend\"})"
   ]
  },
  {
   "cell_type": "code",
   "execution_count": 7,
   "metadata": {
    "pycharm": {
     "name": "#%%\n"
    }
   },
   "outputs": [
    {
     "name": "stderr",
     "output_type": "stream",
     "text": [
      "C:\\Program Files\\Python310\\lib\\site-packages\\sklearn\\preprocessing\\_label.py:115: DataConversionWarning: A column-vector y was passed when a 1d array was expected. Please change the shape of y to (n_samples, ), for example using ravel().\n",
      "  y = column_or_1d(y, warn=True)\n"
     ]
    },
    {
     "data": {
      "text/html": [
       "<div>\n",
       "<style scoped>\n",
       "    .dataframe tbody tr th:only-of-type {\n",
       "        vertical-align: middle;\n",
       "    }\n",
       "\n",
       "    .dataframe tbody tr th {\n",
       "        vertical-align: top;\n",
       "    }\n",
       "\n",
       "    .dataframe thead th {\n",
       "        text-align: right;\n",
       "    }\n",
       "</style>\n",
       "<table border=\"1\" class=\"dataframe\">\n",
       "  <thead>\n",
       "    <tr style=\"text-align: right;\">\n",
       "      <th></th>\n",
       "      <th>PrimaryType</th>\n",
       "      <th>Location Description</th>\n",
       "      <th>Year</th>\n",
       "      <th>Month</th>\n",
       "      <th>day</th>\n",
       "      <th>day_of_week</th>\n",
       "      <th>weekend</th>\n",
       "      <th>Day_Period</th>\n",
       "    </tr>\n",
       "  </thead>\n",
       "  <tbody>\n",
       "    <tr>\n",
       "      <th>0</th>\n",
       "      <td>9</td>\n",
       "      <td>158</td>\n",
       "      <td>2001</td>\n",
       "      <td>1</td>\n",
       "      <td>1</td>\n",
       "      <td>1</td>\n",
       "      <td>0</td>\n",
       "      <td>2</td>\n",
       "    </tr>\n",
       "    <tr>\n",
       "      <th>1</th>\n",
       "      <td>5</td>\n",
       "      <td>158</td>\n",
       "      <td>2017</td>\n",
       "      <td>10</td>\n",
       "      <td>8</td>\n",
       "      <td>3</td>\n",
       "      <td>1</td>\n",
       "      <td>0</td>\n",
       "    </tr>\n",
       "    <tr>\n",
       "      <th>2</th>\n",
       "      <td>3</td>\n",
       "      <td>139</td>\n",
       "      <td>2017</td>\n",
       "      <td>3</td>\n",
       "      <td>28</td>\n",
       "      <td>5</td>\n",
       "      <td>0</td>\n",
       "      <td>1</td>\n",
       "    </tr>\n",
       "    <tr>\n",
       "      <th>3</th>\n",
       "      <td>31</td>\n",
       "      <td>158</td>\n",
       "      <td>2017</td>\n",
       "      <td>9</td>\n",
       "      <td>9</td>\n",
       "      <td>2</td>\n",
       "      <td>1</td>\n",
       "      <td>1</td>\n",
       "    </tr>\n",
       "    <tr>\n",
       "      <th>4</th>\n",
       "      <td>5</td>\n",
       "      <td>114</td>\n",
       "      <td>2017</td>\n",
       "      <td>8</td>\n",
       "      <td>26</td>\n",
       "      <td>2</td>\n",
       "      <td>1</td>\n",
       "      <td>2</td>\n",
       "    </tr>\n",
       "  </tbody>\n",
       "</table>\n",
       "</div>"
      ],
      "text/plain": [
       "   PrimaryType  Location Description  Year  Month  day  day_of_week  weekend  \\\n",
       "0            9                   158  2001      1    1            1        0   \n",
       "1            5                   158  2017     10    8            3        1   \n",
       "2            3                   139  2017      3   28            5        0   \n",
       "3           31                   158  2017      9    9            2        1   \n",
       "4            5                   114  2017      8   26            2        1   \n",
       "\n",
       "   Day_Period  \n",
       "0           2  \n",
       "1           0  \n",
       "2           1  \n",
       "3           1  \n",
       "4           2  "
      ]
     },
     "execution_count": 7,
     "metadata": {},
     "output_type": "execute_result"
    }
   ],
   "source": [
    "#encode datas with several classes using labelencoder\n",
    "label = preprocessing.LabelEncoder()\n",
    "encoder = pd.DataFrame(label.fit_transform(df_mod[['Location Description']]))\n",
    "df_mod['Location Description'] = encoder\n",
    "encoder = pd.DataFrame(label.fit_transform(df_mod[['day_of_week']]))\n",
    "df_mod['day_of_week'] = encoder\n",
    "encoder = pd.DataFrame(label.fit_transform(df_mod[['Day_Period']]))\n",
    "df_mod['Day_Period'] = encoder\n",
    "encoder = pd.DataFrame(label.fit_transform(df_mod[['PrimaryType']]))\n",
    "df_mod['PrimaryType'] = encoder"
   ]
  },
  {
   "cell_type": "code",
   "execution_count": 7,
   "metadata": {
    "pycharm": {
     "name": "#%%\n"
    }
   },
   "outputs": [
    {
     "data": {
      "text/html": [
       "<div>\n",
       "<style scoped>\n",
       "    .dataframe tbody tr th:only-of-type {\n",
       "        vertical-align: middle;\n",
       "    }\n",
       "\n",
       "    .dataframe tbody tr th {\n",
       "        vertical-align: top;\n",
       "    }\n",
       "\n",
       "    .dataframe thead th {\n",
       "        text-align: right;\n",
       "    }\n",
       "</style>\n",
       "<table border=\"1\" class=\"dataframe\">\n",
       "  <thead>\n",
       "    <tr style=\"text-align: right;\">\n",
       "      <th></th>\n",
       "      <th>Location Description</th>\n",
       "      <th>Year</th>\n",
       "      <th>Month</th>\n",
       "      <th>day</th>\n",
       "      <th>day_of_week</th>\n",
       "      <th>weekend</th>\n",
       "      <th>Day_Period</th>\n",
       "    </tr>\n",
       "  </thead>\n",
       "  <tbody>\n",
       "    <tr>\n",
       "      <th>Location Description</th>\n",
       "      <td>1.000000</td>\n",
       "      <td>-0.054140</td>\n",
       "      <td>0.005943</td>\n",
       "      <td>0.003029</td>\n",
       "      <td>0.003604</td>\n",
       "      <td>-0.007276</td>\n",
       "      <td>-0.024197</td>\n",
       "    </tr>\n",
       "    <tr>\n",
       "      <th>Year</th>\n",
       "      <td>-0.054140</td>\n",
       "      <td>1.000000</td>\n",
       "      <td>-0.025071</td>\n",
       "      <td>-0.000951</td>\n",
       "      <td>-0.004098</td>\n",
       "      <td>0.007656</td>\n",
       "      <td>0.025796</td>\n",
       "    </tr>\n",
       "    <tr>\n",
       "      <th>Month</th>\n",
       "      <td>0.005943</td>\n",
       "      <td>-0.025071</td>\n",
       "      <td>1.000000</td>\n",
       "      <td>0.000789</td>\n",
       "      <td>-0.002827</td>\n",
       "      <td>0.006756</td>\n",
       "      <td>-0.007680</td>\n",
       "    </tr>\n",
       "    <tr>\n",
       "      <th>day</th>\n",
       "      <td>0.003029</td>\n",
       "      <td>-0.000951</td>\n",
       "      <td>0.000789</td>\n",
       "      <td>1.000000</td>\n",
       "      <td>0.001378</td>\n",
       "      <td>0.000834</td>\n",
       "      <td>-0.000987</td>\n",
       "    </tr>\n",
       "    <tr>\n",
       "      <th>day_of_week</th>\n",
       "      <td>0.003604</td>\n",
       "      <td>-0.004098</td>\n",
       "      <td>-0.002827</td>\n",
       "      <td>0.001378</td>\n",
       "      <td>1.000000</td>\n",
       "      <td>-0.153148</td>\n",
       "      <td>0.026362</td>\n",
       "    </tr>\n",
       "    <tr>\n",
       "      <th>weekend</th>\n",
       "      <td>-0.007276</td>\n",
       "      <td>0.007656</td>\n",
       "      <td>0.006756</td>\n",
       "      <td>0.000834</td>\n",
       "      <td>-0.153148</td>\n",
       "      <td>1.000000</td>\n",
       "      <td>-0.092816</td>\n",
       "    </tr>\n",
       "    <tr>\n",
       "      <th>Day_Period</th>\n",
       "      <td>-0.024197</td>\n",
       "      <td>0.025796</td>\n",
       "      <td>-0.007680</td>\n",
       "      <td>-0.000987</td>\n",
       "      <td>0.026362</td>\n",
       "      <td>-0.092816</td>\n",
       "      <td>1.000000</td>\n",
       "    </tr>\n",
       "  </tbody>\n",
       "</table>\n",
       "</div>"
      ],
      "text/plain": [
       "                      Location Description      Year     Month       day  \\\n",
       "Location Description              1.000000 -0.054140  0.005943  0.003029   \n",
       "Year                             -0.054140  1.000000 -0.025071 -0.000951   \n",
       "Month                             0.005943 -0.025071  1.000000  0.000789   \n",
       "day                               0.003029 -0.000951  0.000789  1.000000   \n",
       "day_of_week                       0.003604 -0.004098 -0.002827  0.001378   \n",
       "weekend                          -0.007276  0.007656  0.006756  0.000834   \n",
       "Day_Period                       -0.024197  0.025796 -0.007680 -0.000987   \n",
       "\n",
       "                      day_of_week   weekend  Day_Period  \n",
       "Location Description     0.003604 -0.007276   -0.024197  \n",
       "Year                    -0.004098  0.007656    0.025796  \n",
       "Month                   -0.002827  0.006756   -0.007680  \n",
       "day                      0.001378  0.000834   -0.000987  \n",
       "day_of_week              1.000000 -0.153148    0.026362  \n",
       "weekend                 -0.153148  1.000000   -0.092816  \n",
       "Day_Period               0.026362 -0.092816    1.000000  "
      ]
     },
     "execution_count": 7,
     "metadata": {},
     "output_type": "execute_result"
    }
   ],
   "source": [
    "df_mod.corr(method='pearson', min_periods=1) #find the correlation of features"
   ]
  },
  {
   "cell_type": "code",
   "execution_count": 10,
   "metadata": {
    "pycharm": {
     "name": "#%%\n"
    }
   },
   "outputs": [],
   "source": [
    "df_mod_reduced = df_mod.sample(1000000, random_state=1)"
   ]
  },
  {
   "cell_type": "code",
   "execution_count": 11,
   "metadata": {
    "pycharm": {
     "name": "#%%\n"
    }
   },
   "outputs": [],
   "source": [
    "X = df_mod_reduced.iloc[:,1:]\n",
    "y = df_mod_reduced.iloc[:,0]"
   ]
  },
  {
   "cell_type": "code",
   "execution_count": 12,
   "metadata": {
    "pycharm": {
     "name": "#%%\n"
    }
   },
   "outputs": [],
   "source": [
    "X_train, X_test, y_train, y_test = train_test_split(X, y, test_size = 0.2, random_state=1, stratify=y)"
   ]
  },
  {
   "cell_type": "code",
   "execution_count": 13,
   "metadata": {
    "pycharm": {
     "name": "#%%\n"
    }
   },
   "outputs": [
    {
     "data": {
      "text/plain": [
       "((35,), (35,), (35,), (35,))"
      ]
     },
     "execution_count": 13,
     "metadata": {},
     "output_type": "execute_result"
    }
   ],
   "source": [
    "#make sure we have all types of crime both in y train and y test\n",
    "y_train.unique().shape, y.unique().shape, df_mod_reduced['PrimaryType'].unique().shape, df['PrimaryType'].unique().shape"
   ]
  },
  {
   "cell_type": "code",
   "execution_count": 8,
   "metadata": {
    "pycharm": {
     "name": "#%%\n"
    }
   },
   "outputs": [],
   "source": [
    "from sklearn.neighbors import KNeighborsClassifier\n",
    "from sklearn.naive_bayes import GaussianNB\n",
    "from sklearn.tree import DecisionTreeClassifier\n",
    "from sklearn.ensemble import RandomForestClassifier\n",
    "from sklearn.model_selection import KFold\n",
    "from sklearn.model_selection import cross_val_score\n",
    "from xgboost import XGBClassifier"
   ]
  },
  {
   "cell_type": "code",
   "execution_count": 72,
   "metadata": {
    "pycharm": {
     "name": "#%%\n"
    }
   },
   "outputs": [],
   "source": [
    "kfold = KFold(n_splits = 5, shuffle = True, random_state =1)"
   ]
  },
  {
   "cell_type": "code",
   "execution_count": 9,
   "metadata": {
    "pycharm": {
     "name": "#%%\n"
    }
   },
   "outputs": [],
   "source": [
    "classifiers = []\n",
    "KNN = KNeighborsClassifier(n_neighbors = 5, metric = 'minkowski', p = 2)\n",
    "NB = GaussianNB()\n",
    "DT = DecisionTreeClassifier(criterion = 'entropy', random_state = 0)\n",
    "RF = RandomForestClassifier(n_estimators = 10, criterion = 'entropy', random_state = 0)\n",
    "XGB = XGBClassifier(n_estimators=10,max_depth = 5,gamma = 0)\n",
    "classifiers.append(KNN)\n",
    "classifiers.append(NB)\n",
    "classifiers.append(DT)\n",
    "classifiers.append(RF)\n",
    "classifiers.append(XGB)\n",
    "classifiers_names = ['KNN', 'NB', 'DT', 'RF', 'XGB']"
   ]
  },
  {
   "cell_type": "code",
   "execution_count": 139,
   "metadata": {
    "pycharm": {
     "name": "#%%\n"
    }
   },
   "outputs": [
    {
     "name": "stdout",
     "output_type": "stream",
     "text": [
      "KNN 0.22878333333333334\n",
      "NB 0.23286166666666666\n",
      "DT 0.216675\n",
      "RF 0.22196833333333332\n",
      "XGB 0.31926333333333334\n"
     ]
    }
   ],
   "source": [
    "results = []\n",
    "for i in range(len(classifiers)):    \n",
    "    print(classifiers_names[i], cross_val_score(classifiers[i], X, y, cv=kfold, scoring='accuracy').mean()) #finding best model"
   ]
  },
  {
   "cell_type": "code",
   "execution_count": 28,
   "metadata": {
    "pycharm": {
     "name": "#%%\n"
    }
   },
   "outputs": [
    {
     "name": "stdout",
     "output_type": "stream",
     "text": [
      "feature 0 Location Description 0.6616389\n",
      "feature 1 Year 0.05895941\n",
      "feature 2 Month 0.033312537\n",
      "feature 3 day 0.012722195\n",
      "feature 4 day_of_week 0.011096984\n",
      "feature 5 weekend 0.07535238\n",
      "feature 6 Day_Period 0.14691757\n"
     ]
    }
   ],
   "source": [
    "for i in range(X.shape[1]):\n",
    "    print('feature', i, X.columns[i], XGB.feature_importances_[i]) #identifying most important features"
   ]
  },
  {
   "cell_type": "code",
   "execution_count": 74,
   "metadata": {
    "pycharm": {
     "name": "#%%\n"
    }
   },
   "outputs": [],
   "source": [
    "df_mod = df_mod.drop(['day_of_week', 'day'], axis=1) #removing least important features, considering their overlap with other features"
   ]
  },
  {
   "cell_type": "code",
   "execution_count": 12,
   "metadata": {
    "pycharm": {
     "name": "#%%\n"
    }
   },
   "outputs": [],
   "source": [
    "#exploring the effect of data size on the accuracy of the model\n",
    "xgboost = []\n",
    "xgb_size = []\n",
    "for i in range(1,2):\n",
    "    df_resize = df_mod.sample(3000000*i, random_state=1)\n",
    "    X = df_resize.iloc[:,1:]\n",
    "    y = df_resize.iloc[:,0]\n",
    "    X_train, X_test, y_train, y_test = train_test_split(X, y, test_size = 0.2, random_state = 1)\n",
    "    xgboost.append(cross_val_score(XGB, X, y, cv=5, scoring='accuracy').mean())\n",
    "    xgb_size.append(i*300000)\n"
   ]
  },
  {
   "cell_type": "code",
   "execution_count": 13,
   "metadata": {
    "pycharm": {
     "name": "#%%\n"
    }
   },
   "outputs": [
    {
     "data": {
      "text/plain": [
       "[0.3192183333333333]"
      ]
     },
     "execution_count": 13,
     "metadata": {},
     "output_type": "execute_result"
    }
   ],
   "source": [
    "xgboost"
   ]
  },
  {
   "cell_type": "code",
   "execution_count": 76,
   "metadata": {
    "pycharm": {
     "name": "#%%\n"
    }
   },
   "outputs": [
    {
     "data": {
      "text/plain": [
       "<matplotlib.legend.Legend at 0x22134494610>"
      ]
     },
     "execution_count": 76,
     "metadata": {},
     "output_type": "execute_result"
    },
    {
     "data": {
      "image/png": "[encoded data removed]",
      "text/plain": [
       "<Figure size 432x288 with 1 Axes>"
      ]
     },
     "metadata": {},
     "output_type": "display_data"
    }
   ],
   "source": [
    "plt.style.use('fivethirtyeight')\n",
    "plt.plot(xgb_size, xgboost, c = 'green', label = 'XGBOOST')\n",
    "plt.xlabel('Dataset Size')\n",
    "plt.ylabel('Model Accuracy')\n",
    "plt.legend(loc =(1.05,0))"
   ]
  },
  {
   "cell_type": "code",
   "execution_count": 77,
   "metadata": {
    "pycharm": {
     "name": "#%%\n"
    }
   },
   "outputs": [],
   "source": [
    "from sklearn.model_selection import GridSearchCV"
   ]
  },
  {
   "cell_type": "code",
   "execution_count": 79,
   "metadata": {
    "pycharm": {
     "name": "#%%\n"
    }
   },
   "outputs": [],
   "source": [
    "#hyperparameter tuning\n",
    "XGB = XGBClassifier(n_estimators=10,max_depth = 5,gamma = 0)\n",
    "parameters = [{'n_estimators': [10, 30, 70, 100], 'gamma': [0, 0.01, 0.05, 0.1], 'learning_rate':[0.1, 0.3, 0.7]}]\n",
    "df_mod_reduced = df_mod.sample(3000000, random_state=1)\n",
    "X = df_mod_reduced.iloc[:,1:]\n",
    "y = df_mod_reduced.iloc[:,0]\n",
    "X_train, X_test, y_train, y_test = train_test_split(X, y, test_size = 0.2, random_state=1, stratify=y)"
   ]
  },
  {
   "cell_type": "code",
   "execution_count": 80,
   "metadata": {
    "pycharm": {
     "name": "#%%\n"
    }
   },
   "outputs": [
    {
     "name": "stdout",
     "output_type": "stream",
     "text": [
      "[05:41:54] WARNING: C:/Users/Administrator/workspace/xgboost-win64_release_1.6.0/src/learner.cc:627: \n",
      "Parameters: { \"n_estimator\" } might not be used.\n",
      "\n",
      "  This could be a false alarm, with some parameters getting used by language bindings but\n",
      "  then being mistakenly passed down to XGBoost core, or some parameter actually being used\n",
      "  but getting flagged wrongly here. Please open an issue if you find any such cases.\n",
      "\n",
      "\n"
     ]
    },
    {
     "data": {
      "text/plain": [
       "GridSearchCV(cv=5,\n",
       "             estimator=XGBClassifier(base_score=None, booster=None,\n",
       "                                     callbacks=None, colsample_bylevel=None,\n",
       "                                     colsample_bynode=None,\n",
       "                                     colsample_bytree=None,\n",
       "                                     early_stopping_rounds=None,\n",
       "                                     enable_categorical=False, eval_metric=None,\n",
       "                                     gamma=0, gpu_id=None, grow_policy=None,\n",
       "                                     importance_type=None,\n",
       "                                     interaction_constraints=None,\n",
       "                                     learning_rate=None, max_bin=None,\n",
       "                                     max_cat_t...\n",
       "                                     max_delta_step=None, max_depth=5,\n",
       "                                     max_leaves=None, min_child_weight=None,\n",
       "                                     missing=nan, monotone_constraints=None,\n",
       "                                     n_estimators=10, n_jobs=None,\n",
       "                                     num_parallel_tree=None, predictor=None,\n",
       "                                     random_state=None, reg_alpha=None,\n",
       "                                     reg_lambda=None, ...),\n",
       "             n_jobs=-1,\n",
       "             param_grid=[{'gamma': [0, 0.01, 0.05, 0.1],\n",
       "                          'learning_rate': [0.1, 0.3, 0.7],\n",
       "                          'n_estimator': [10, 30, 70, 100]}],\n",
       "             scoring='accuracy')"
      ]
     },
     "execution_count": 80,
     "metadata": {},
     "output_type": "execute_result"
    }
   ],
   "source": [
    "grid_search = GridSearchCV(estimator= XGB,\n",
    "                          param_grid= parameters,\n",
    "                          scoring='accuracy',\n",
    "                          cv = 5,\n",
    "                          n_jobs=-1)\n",
    "grid_search.fit(X_train, y_train)"
   ]
  },
  {
   "cell_type": "code",
   "execution_count": 85,
   "metadata": {
    "pycharm": {
     "name": "#%%\n"
    }
   },
   "outputs": [
    {
     "data": {
      "text/plain": [
       "(0.3188833333333333, {'gamma': 0.05, 'learning_rate': 0.3, 'n_estimator': 10})"
      ]
     },
     "execution_count": 85,
     "metadata": {},
     "output_type": "execute_result"
    }
   ],
   "source": [
    "grid_search.best_score_, grid_search.best_params_, grid_search.best_estimator_"
   ]
  },
  {
   "cell_type": "code",
   "execution_count": 99,
   "metadata": {
    "pycharm": {
     "name": "#%%\n"
    }
   },
   "outputs": [
    {
     "data": {
      "text/plain": [
       "GridSearchCV(cv=5,\n",
       "             estimator=XGBClassifier(base_score=None, booster=None,\n",
       "                                     callbacks=None, colsample_bylevel=None,\n",
       "                                     colsample_bynode=None,\n",
       "                                     colsample_bytree=None,\n",
       "                                     early_stopping_rounds=None,\n",
       "                                     enable_categorical=False, eval_metric=None,\n",
       "                                     gamma=0.05, gpu_id=None, grow_policy=None,\n",
       "                                     importance_type=None,\n",
       "                                     interaction_constraints=None,\n",
       "                                     learning_rate=0.3, max_bin=None,\n",
       "                                     max_cat_to_onehot=None,\n",
       "                                     max_delta_step=None, max_depth=5,\n",
       "                                     max_leaves=None, min_child_weight=None,\n",
       "                                     missing=nan, monotone_constraints=None,\n",
       "                                     n_estimators=10, n_jobs=None,\n",
       "                                     num_parallel_tree=None, predictor=None,\n",
       "                                     random_state=None, reg_alpha=None,\n",
       "                                     reg_lambda=None, ...),\n",
       "             param_grid=[{'n_estimators': [10, 30, 70, 100]}],\n",
       "             scoring='accuracy')"
      ]
     },
     "execution_count": 99,
     "metadata": {},
     "output_type": "execute_result"
    }
   ],
   "source": [
    "parameters = [{'n_estimators': [10, 30, 70, 100]}]\n",
    "XGB = XGBClassifier(n_estimators=10,max_depth = 5,gamma = 0.05, learning_rate = 0.3)\n",
    "grid_search = GridSearchCV(estimator= XGB,\n",
    "                          param_grid= parameters,\n",
    "                          scoring='accuracy',\n",
    "                          cv = 5,)\n",
    "grid_search.fit(X_train, y_train)"
   ]
  },
  {
   "cell_type": "code",
   "execution_count": 12,
   "metadata": {
    "pycharm": {
     "name": "#%%\n"
    }
   },
   "outputs": [
    {
     "name": "stdout",
     "output_type": "stream",
     "text": [
      "0\n",
      "1\n",
      "2\n",
      "3\n",
      "4\n"
     ]
    }
   ],
   "source": [
    "#modeling with tuned hyperparameters, exploring different data size\n",
    "XGB = XGBClassifier(n_estimators=100,max_depth = 5,gamma = 0.05, learning_rate = 0.3)\n",
    "xgboost = []\n",
    "xgb_size = []\n",
    "for i in range(5):\n",
    "    df_resize = df_mod.sample(1000000*(i+1), random_state=1)\n",
    "    X = df_resize.iloc[:,1:]\n",
    "    y = df_resize.iloc[:,0]\n",
    "    X_train, X_test, y_train, y_test = train_test_split(X, y, test_size = 0.2, random_state = 1, stratify=y)\n",
    "    xgboost.append(cross_val_score(XGB, X, y, cv=2, scoring='accuracy').mean())\n",
    "    xgb_size.append((i+1)*1000000)\n",
    "    print(i)"
   ]
  },
  {
   "cell_type": "code",
   "execution_count": 13,
   "metadata": {
    "pycharm": {
     "name": "#%%\n"
    }
   },
   "outputs": [
    {
     "data": {
      "text/plain": [
       "<matplotlib.legend.Legend at 0x2771d8db010>"
      ]
     },
     "execution_count": 13,
     "metadata": {},
     "output_type": "execute_result"
    },
    {
     "data": {
      "image/png": "[encoded data removed]",
      "text/plain": [
       "<Figure size 432x288 with 1 Axes>"
      ]
     },
     "metadata": {},
     "output_type": "display_data"
    }
   ],
   "source": [
    "plt.style.use('fivethirtyeight')\n",
    "plt.plot(xgb_size, xgboost, c = 'green', label = 'XGBOOST')\n",
    "plt.xlabel('Dataset Size')\n",
    "plt.ylabel('Model Accuracy')\n",
    "plt.legend(loc =(1.05,0))"
   ]
  }
 ],
 "metadata": {
  "colab": {
   "collapsed_sections": [],
   "name": "crime4.ipynb",
   "provenance": []
  },
  "kernelspec": {
   "display_name": "Python 3 (ipykernel)",
   "language": "python",
   "name": "python3"
  },
  "language_info": {
   "codemirror_mode": {
    "name": "ipython",
    "version": 3
   },
   "file_extension": ".py",
   "mimetype": "text/x-python",
   "name": "python",
   "nbconvert_exporter": "python",
   "pygments_lexer": "ipython3",
   "version": "3.10.0"
  }
 },
 "nbformat": 4,
 "nbformat_minor": 4
}