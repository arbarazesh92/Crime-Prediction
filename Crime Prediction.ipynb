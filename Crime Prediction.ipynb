{
 "cells": [
  {
   "cell_type": "markdown",
   "source": [
    "Importing Libraries"
   ],
   "metadata": {
    "collapsed": false,
    "pycharm": {
     "name": "#%% md\n"
    }
   }
  },
  {
   "cell_type": "code",
   "execution_count": 1,
   "outputs": [],
   "source": [
    "import pandas as pd\n",
    "import numpy as np\n",
    "import matplotlib.pyplot as plt\n",
    "from sklearn.preprocessing import OneHotEncoder\n",
    "from sklearn.preprocessing import LabelEncoder\n",
    "import glob\n",
    "import time\n",
    "import re\n",
    "import math\n",
    "from sklearn.metrics import confusion_matrix\n",
    "import seaborn as sns\n",
    "from sklearn import preprocessing\n",
    "from sklearn.preprocessing import OneHotEncoder\n",
    "from sklearn.model_selection import train_test_split\n",
    "%matplotlib inline"
   ],
   "metadata": {
    "collapsed": false,
    "pycharm": {
     "name": "#%%\n"
    }
   }
  },
  {
   "cell_type": "markdown",
   "source": [
    "Importing Database"
   ],
   "metadata": {
    "collapsed": false,
    "pycharm": {
     "name": "#%% md\n"
    }
   }
  },
  {
   "cell_type": "code",
   "execution_count": 2,
   "outputs": [],
   "source": [
    "df = pd.read_csv('data.csv')\n",
    "df = df.rename(columns={\"Primary Type\":\"PrimaryType\"}) #change the column name to remove whitespace"
   ],
   "metadata": {
    "collapsed": false,
    "pycharm": {
     "name": "#%%\n"
    }
   }
  },
  {
   "cell_type": "code",
   "execution_count": null,
   "metadata": {
    "pycharm": {
     "name": "#%%\n",
     "is_executing": true
    }
   },
   "outputs": [],
   "source": [
    "df['PrimaryType'].value_counts() #occurence of each crime type"
   ]
  },
  {
   "cell_type": "code",
   "execution_count": null,
   "metadata": {
    "pycharm": {
     "name": "#%%\n",
     "is_executing": true
    }
   },
   "outputs": [],
   "source": [
    "df = df.dropna() #remove rows including null values\n",
    "df = df.drop(df.index[(df.PrimaryType == 'DOMESTIC VIOLENCE') | (df.PrimaryType =='NON-CRIMINAL (SUBJECT SPECIFIED)') | (df.PrimaryType =='RITUALISM')]) #since we want to make several models with different size and using kfold, output classes with small number of occurence will raise error\n",
    "df = df.reset_index(drop = True)\n",
    "df['PrimaryType'].value_counts().shape #number of crime types"
   ]
  },
  {
   "cell_type": "code",
   "execution_count": null,
   "metadata": {
    "pycharm": {
     "name": "#%%\n",
     "is_executing": true
    }
   },
   "outputs": [],
   "source": [
    "df.info()"
   ]
  },
  {
   "cell_type": "code",
   "execution_count": null,
   "metadata": {
    "pycharm": {
     "name": "#%%\n",
     "is_executing": true
    }
   },
   "outputs": [],
   "source": [
    "#different classes of columns with object data type\n",
    "print(df['Day_Period'].unique())\n",
    "print(df['weekday'].unique())\n",
    "print(df['day_of_week'].unique())\n",
    "print(df['Location Description'].unique())"
   ]
  },
  {
   "cell_type": "code",
   "execution_count": 5,
   "metadata": {
    "pycharm": {
     "name": "#%%\n"
    }
   },
   "outputs": [],
   "source": [
    "df_mod = df.copy()"
   ]
  },
  {
   "cell_type": "code",
   "execution_count": 6,
   "metadata": {
    "pycharm": {
     "name": "#%%\n"
    }
   },
   "outputs": [],
   "source": [
    "#mapping weekday to binary classes\n",
    "df_mod['weekday'] = df_mod['weekday'].map({'Weekday' : 0, 'Weekend':1})\n",
    "df_mod = df_mod.rename(columns={\"weekday\":\"weekend\"})"
   ]
  },
  {
   "cell_type": "code",
   "execution_count": null,
   "metadata": {
    "pycharm": {
     "name": "#%%\n",
     "is_executing": true
    }
   },
   "outputs": [],
   "source": [
    "#encode datas with several classes using labelencoder\n",
    "label = preprocessing.LabelEncoder()\n",
    "encoder = pd.DataFrame(label.fit_transform(df_mod[['Location Description']]))\n",
    "df_mod['Location Description'] = encoder\n",
    "encoder = pd.DataFrame(label.fit_transform(df_mod[['day_of_week']]))\n",
    "df_mod['day_of_week'] = encoder\n",
    "encoder = pd.DataFrame(label.fit_transform(df_mod[['Day_Period']]))\n",
    "df_mod['Day_Period'] = encoder\n",
    "encoder = pd.DataFrame(label.fit_transform(df_mod[['PrimaryType']]))\n",
    "df_mod['PrimaryType'] = encoder"
   ]
  },
  {
   "cell_type": "code",
   "execution_count": null,
   "metadata": {
    "pycharm": {
     "name": "#%%\n",
     "is_executing": true
    }
   },
   "outputs": [],
   "source": [
    "df_mod.corr(method='pearson', min_periods=1) #find the correlation of features"
   ]
  },
  {
   "cell_type": "code",
   "execution_count": 10,
   "metadata": {
    "pycharm": {
     "name": "#%%\n"
    }
   },
   "outputs": [],
   "source": [
    "df_mod_reduced = df_mod.sample(1000000, random_state=1)"
   ]
  },
  {
   "cell_type": "code",
   "execution_count": 11,
   "metadata": {
    "pycharm": {
     "name": "#%%\n"
    }
   },
   "outputs": [],
   "source": [
    "X = df_mod_reduced.iloc[:,1:]\n",
    "y = df_mod_reduced.iloc[:,0]"
   ]
  },
  {
   "cell_type": "code",
   "execution_count": 12,
   "metadata": {
    "pycharm": {
     "name": "#%%\n"
    }
   },
   "outputs": [],
   "source": [
    "X_train, X_test, y_train, y_test = train_test_split(X, y, test_size = 0.2, random_state=1, stratify=y)"
   ]
  },
  {
   "cell_type": "code",
   "execution_count": null,
   "metadata": {
    "pycharm": {
     "name": "#%%\n",
     "is_executing": true
    }
   },
   "outputs": [],
   "source": [
    "#make sure we have all types of crime both in y train and y test\n",
    "y_train.unique().shape, y.unique().shape, df_mod_reduced['PrimaryType'].unique().shape, df['PrimaryType'].unique().shape"
   ]
  },
  {
   "cell_type": "code",
   "execution_count": 8,
   "metadata": {
    "pycharm": {
     "name": "#%%\n"
    }
   },
   "outputs": [],
   "source": [
    "from sklearn.neighbors import KNeighborsClassifier\n",
    "from sklearn.naive_bayes import GaussianNB\n",
    "from sklearn.tree import DecisionTreeClassifier\n",
    "from sklearn.ensemble import RandomForestClassifier\n",
    "from sklearn.model_selection import KFold\n",
    "from sklearn.model_selection import cross_val_score\n",
    "from xgboost import XGBClassifier"
   ]
  },
  {
   "cell_type": "code",
   "execution_count": 72,
   "metadata": {
    "pycharm": {
     "name": "#%%\n"
    }
   },
   "outputs": [],
   "source": [
    "kfold = KFold(n_splits = 5, shuffle = True, random_state =1)"
   ]
  },
  {
   "cell_type": "code",
   "execution_count": 9,
   "metadata": {
    "pycharm": {
     "name": "#%%\n"
    }
   },
   "outputs": [],
   "source": [
    "classifiers = []\n",
    "KNN = KNeighborsClassifier(n_neighbors = 5, metric = 'minkowski', p = 2)\n",
    "NB = GaussianNB()\n",
    "DT = DecisionTreeClassifier(criterion = 'entropy', random_state = 0)\n",
    "RF = RandomForestClassifier(n_estimators = 10, criterion = 'entropy', random_state = 0)\n",
    "XGB = XGBClassifier(n_estimators=10,max_depth = 5,gamma = 0)\n",
    "classifiers.append(KNN)\n",
    "classifiers.append(NB)\n",
    "classifiers.append(DT)\n",
    "classifiers.append(RF)\n",
    "classifiers.append(XGB)\n",
    "classifiers_names = ['KNN', 'NB', 'DT', 'RF', 'XGB']"
   ]
  },
  {
   "cell_type": "code",
   "execution_count": null,
   "metadata": {
    "pycharm": {
     "name": "#%%\n",
     "is_executing": true
    }
   },
   "outputs": [],
   "source": [
    "results = []\n",
    "for i in range(len(classifiers)):    \n",
    "    print(classifiers_names[i], cross_val_score(classifiers[i], X, y, cv=kfold, scoring='accuracy').mean()) #finding best model"
   ]
  },
  {
   "cell_type": "code",
   "execution_count": null,
   "metadata": {
    "pycharm": {
     "name": "#%%\n",
     "is_executing": true
    }
   },
   "outputs": [],
   "source": [
    "for i in range(X.shape[1]):\n",
    "    print('feature', i, X.columns[i], XGB.feature_importances_[i]) #identifying most important features"
   ]
  },
  {
   "cell_type": "code",
   "execution_count": 74,
   "metadata": {
    "pycharm": {
     "name": "#%%\n"
    }
   },
   "outputs": [],
   "source": [
    "df_mod = df_mod.drop(['day_of_week', 'day'], axis=1) #removing least important features, considering their overlap with other features"
   ]
  },
  {
   "cell_type": "code",
   "execution_count": 12,
   "metadata": {
    "pycharm": {
     "name": "#%%\n"
    }
   },
   "outputs": [],
   "source": [
    "#exploring the effect of data size on the accuracy of the model\n",
    "xgboost = []\n",
    "xgb_size = []\n",
    "for i in range(1,5):\n",
    "    df_resize = df_mod.sample(1000000*i, random_state=1)\n",
    "    X = df_resize.iloc[:,1:]\n",
    "    y = df_resize.iloc[:,0]\n",
    "    X_train, X_test, y_train, y_test = train_test_split(X, y, test_size = 0.2, random_state = 1)\n",
    "    xgboost.append(cross_val_score(XGB, X, y, cv=5, scoring='accuracy').mean())\n",
    "    xgb_size.append(i*1000000)\n",
    "xgboost"
   ]
  },
  {
   "cell_type": "code",
   "execution_count": null,
   "metadata": {
    "pycharm": {
     "name": "#%%\n",
     "is_executing": true
    }
   },
   "outputs": [],
   "source": [
    "plt.style.use('fivethirtyeight')\n",
    "plt.plot(xgb_size, xgboost, c = 'green', label = 'XGBOOST')\n",
    "plt.xlabel('Dataset Size')\n",
    "plt.ylabel('Model Accuracy')\n",
    "plt.legend(loc =(1.05,0))"
   ]
  },
  {
   "cell_type": "code",
   "execution_count": 77,
   "metadata": {
    "pycharm": {
     "name": "#%%\n"
    }
   },
   "outputs": [],
   "source": [
    "from sklearn.model_selection import GridSearchCV"
   ]
  },
  {
   "cell_type": "code",
   "execution_count": 79,
   "metadata": {
    "pycharm": {
     "name": "#%%\n"
    }
   },
   "outputs": [],
   "source": [
    "#hyperparameter tuning\n",
    "XGB = XGBClassifier(n_estimators=10,max_depth = 5,gamma = 0)\n",
    "parameters = [{'n_estimators': [10, 30, 70, 100], 'gamma': [0, 0.01, 0.05, 0.1], 'learning_rate':[0.1, 0.3, 0.7]}]\n",
    "df_mod_reduced = df_mod.sample(3000000, random_state=1)\n",
    "X = df_mod_reduced.iloc[:,1:]\n",
    "y = df_mod_reduced.iloc[:,0]\n",
    "X_train, X_test, y_train, y_test = train_test_split(X, y, test_size = 0.2, random_state=1, stratify=y)"
   ]
  },
  {
   "cell_type": "code",
   "execution_count": null,
   "metadata": {
    "pycharm": {
     "name": "#%%\n",
     "is_executing": true
    }
   },
   "outputs": [],
   "source": [
    "grid_search = GridSearchCV(estimator= XGB,\n",
    "                          param_grid= parameters,\n",
    "                          scoring='accuracy',\n",
    "                          cv = 5,\n",
    "                          n_jobs=-1)\n",
    "grid_search.fit(X_train, y_train)"
   ]
  },
  {
   "cell_type": "code",
   "execution_count": null,
   "metadata": {
    "pycharm": {
     "name": "#%%\n",
     "is_executing": true
    }
   },
   "outputs": [],
   "source": [
    "grid_search.best_score_, grid_search.best_params_, grid_search.best_estimator_"
   ]
  },
  {
   "cell_type": "code",
   "execution_count": null,
   "metadata": {
    "pycharm": {
     "name": "#%%\n",
     "is_executing": true
    }
   },
   "outputs": [],
   "source": [
    "parameters = [{'n_estimators': [10, 30, 70, 100]}]\n",
    "XGB = XGBClassifier(n_estimators=10,max_depth = 5,gamma = 0.05, learning_rate = 0.3)\n",
    "grid_search = GridSearchCV(estimator= XGB,\n",
    "                          param_grid= parameters,\n",
    "                          scoring='accuracy',\n",
    "                          cv = 5,)\n",
    "grid_search.fit(X_train, y_train)"
   ]
  },
  {
   "cell_type": "code",
   "execution_count": null,
   "metadata": {
    "pycharm": {
     "name": "#%%\n",
     "is_executing": true
    }
   },
   "outputs": [],
   "source": [
    "#modeling with tuned hyperparameters, exploring different data size\n",
    "XGB = XGBClassifier(n_estimators=100,max_depth = 5,gamma = 0.05, learning_rate = 0.3)\n",
    "xgboost = []\n",
    "xgb_size = []\n",
    "for i in range(5):\n",
    "    df_resize = df_mod.sample(1000000*(i+1), random_state=1)\n",
    "    X = df_resize.iloc[:,1:]\n",
    "    y = df_resize.iloc[:,0]\n",
    "    X_train, X_test, y_train, y_test = train_test_split(X, y, test_size = 0.2, random_state = 1, stratify=y)\n",
    "    xgboost.append(cross_val_score(XGB, X, y, cv=2, scoring='accuracy').mean())\n",
    "    xgb_size.append((i+1)*1000000)"
   ]
  },
  {
   "cell_type": "code",
   "execution_count": 13,
   "metadata": {
    "pycharm": {
     "name": "#%%\n"
    }
   },
   "outputs": [
    {
     "data": {
      "text/plain": [
       "<matplotlib.legend.Legend at 0x2771d8db010>"
      ]
     },
     "execution_count": 13,
     "metadata": {},
     "output_type": "execute_result"
    },
    {
     "data": {
      "image/png": "[encoded data removed]",
      "text/plain": [
       "<Figure size 432x288 with 1 Axes>"
      ]
     },
     "metadata": {},
     "output_type": "display_data"
    }
   ],
   "source": [
    "plt.style.use('fivethirtyeight')\n",
    "plt.plot(xgb_size, xgboost, c = 'green', label = 'XGBOOST')\n",
    "plt.xlabel('Dataset Size')\n",
    "plt.ylabel('Model Accuracy')\n",
    "plt.legend(loc =(1.05,0))"
   ]
  }
 ],
 "metadata": {
  "colab": {
   "collapsed_sections": [],
   "name": "crime4.ipynb",
   "provenance": []
  },
  "kernelspec": {
   "display_name": "Python 3 (ipykernel)",
   "language": "python",
   "name": "python3"
  },
  "language_info": {
   "codemirror_mode": {
    "name": "ipython",
    "version": 3
   },
   "file_extension": ".py",
   "mimetype": "text/x-python",
   "name": "python",
   "nbconvert_exporter": "python",
   "pygments_lexer": "ipython3",
   "version": "3.10.0"
  }
 },
 "nbformat": 4,
 "nbformat_minor": 4
}